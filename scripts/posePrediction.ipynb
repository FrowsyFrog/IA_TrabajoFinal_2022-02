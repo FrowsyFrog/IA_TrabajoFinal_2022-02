{
 "cells": [
  {
   "cell_type": "code",
   "execution_count": 5,
   "metadata": {},
   "outputs": [],
   "source": [
    "import tensorflow as tf\n",
    "import numpy as np\n",
    "from tensorflow import keras\n",
    "\n",
    "model = keras.models.load_model('../static/model')"
   ]
  },
  {
   "cell_type": "code",
   "execution_count": null,
   "metadata": {},
   "outputs": [],
   "source": [
    "def prediction(im):\n",
    "    im_predict = tf.keras.utils.img_to_array(im,dtype='float32')\n",
    "    im_predict = np.expand_dims(im,axis=0)\n",
    "    im_predict = im_predict[:,:,:,:1]\n",
    "    pred = model.predict(im_predict)\n",
    "    result = \"\"\n",
    "    if pred[0][0] > pred[0][1]:\n",
    "        result = \"Su postura de espalda es incorrecta al {}%\".format(np.round(pred[0][0]*100,4))\n",
    "    else:\n",
    "        result = \"Su postura de espalda es correcta al {}%\".format(np.round(pred[0][1]*100,4))\n",
    "    return result"
   ]
  }
 ],
 "metadata": {
  "kernelspec": {
   "display_name": "Python 3.9.7 ('base')",
   "language": "python",
   "name": "python3"
  },
  "language_info": {
   "codemirror_mode": {
    "name": "ipython",
    "version": 3
   },
   "file_extension": ".py",
   "mimetype": "text/x-python",
   "name": "python",
   "nbconvert_exporter": "python",
   "pygments_lexer": "ipython3",
   "version": "3.9.7"
  },
  "orig_nbformat": 4,
  "vscode": {
   "interpreter": {
    "hash": "e06ff7da33dc9620448857a90ad8b5f428f0d573d205a934d2841c8aee45ea32"
   }
  }
 },
 "nbformat": 4,
 "nbformat_minor": 2
}
